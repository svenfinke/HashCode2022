{
 "cells": [
  {
   "cell_type": "markdown",
   "id": "7c69e072",
   "metadata": {},
   "source": [
    "# Hashcode Implementation\n",
    "\n",
    "*add information*"
   ]
  },
  {
   "cell_type": "code",
   "execution_count": 52,
   "id": "5909c422",
   "metadata": {},
   "outputs": [],
   "source": [
    "# Render Files\n",
    "def renderFile(filename):\n",
    "    # Initialize variables\n",
    "    result = []\n",
    "    contributorCount = 0\n",
    "    projectCount = 0\n",
    "    \n",
    "    # Open File\n",
    "    with open(filename) as f:\n",
    "        lines = f.readlines()\n",
    "        content = f.read()\n",
    "    \n",
    "    # Parse first line\n",
    "    words = lines[0].split()\n",
    "    contributorCount = int(words[0])\n",
    "    projectCount = int(words[1])\n",
    "    contributors = []\n",
    "    projects = []\n",
    "    \n",
    "    nextLine = 1\n",
    "    # Parse Contributors\n",
    "    while True:\n",
    "        contributor = parseNextContributor(lines[nextLine:])\n",
    "        contributors.append(contributor)\n",
    "        nextLine += contributor[\"skillCount\"] + 1\n",
    "        \n",
    "        if len(contributors) >= contributorCount:\n",
    "            break\n",
    "            \n",
    "    # Parse Projects\n",
    "    while True:\n",
    "        project = parseNextProject(lines[nextLine:])\n",
    "        projects.append(project)\n",
    "        nextLine += project[\"roleCount\"] + 1\n",
    "        \n",
    "        if len(projects) >= projectCount:\n",
    "            break\n",
    "    \n",
    "    return {\n",
    "        \"contributors\": contributors,\n",
    "        \"projects\": projects\n",
    "    }\n",
    "                \n",
    "def parseNextContributor(lines):\n",
    "    words = lines[0].split()\n",
    "    contributor = {\n",
    "        \"name\": words[0],\n",
    "        \"skillCount\": int(words[1]),\n",
    "        \"skills\": parseSkillsAndRoles(lines[1:1 + int(words[1])])\n",
    "    }\n",
    "    \n",
    "    return contributor\n",
    "\n",
    "def parseSkillsAndRoles(lines):\n",
    "    skills = []\n",
    "    for line in lines:\n",
    "        words = line.split()\n",
    "        skill = {\n",
    "            \"name\": words[0],\n",
    "            \"skillLevel\": int(words[1])\n",
    "        }\n",
    "        skills.append(skill)\n",
    "    return skills\n",
    "\n",
    "def parseNextProject(lines):\n",
    "    words = lines[0].split()\n",
    "    project = {\n",
    "        \"name\": words[0],\n",
    "        \"durationInDays\": int(words[1]),\n",
    "        \"score\": int(words[2]),\n",
    "        \"bestBeforeInDays\": int(words[3]),\n",
    "        \"roleCount\": int(words[4]),\n",
    "        \"roles\": parseSkillsAndRoles(lines[1:1 + int(words[4])])\n",
    "    }\n",
    "\n",
    "    return project"
   ]
  },
  {
   "cell_type": "code",
   "execution_count": 53,
   "id": "5b7a0a3b",
   "metadata": {},
   "outputs": [
    {
     "name": "stdout",
     "output_type": "stream",
     "text": [
      "[{'name': 'Anna', 'skillCount': 1, 'skills': [{'name': 'C++', 'skillLevel': 2}]}, {'name': 'Bob', 'skillCount': 2, 'skills': [{'name': 'HTML', 'skillLevel': 5}, {'name': 'CSS', 'skillLevel': 5}]}, {'name': 'Maria', 'skillCount': 1, 'skills': [{'name': 'Python', 'skillLevel': 3}]}]\n",
      "[{'name': 'Logging', 'durationInDays': 5, 'score': 10, 'bestBeforeInDays': 5, 'roleCount': 1, 'roles': [{'name': 'C++', 'skillLevel': 3}]}, {'name': 'WebServer', 'durationInDays': 7, 'score': 10, 'bestBeforeInDays': 7, 'roleCount': 2, 'roles': [{'name': 'HTML', 'skillLevel': 3}, {'name': 'C++', 'skillLevel': 2}]}, {'name': 'WebChat', 'durationInDays': 10, 'score': 20, 'bestBeforeInDays': 20, 'roleCount': 2, 'roles': [{'name': 'Python', 'skillLevel': 3}, {'name': 'HTML', 'skillLevel': 3}]}]\n"
     ]
    }
   ],
   "source": [
    "testFileA = renderFile(\"a_an_example.in.txt\")"
   ]
  },
  {
   "cell_type": "code",
   "execution_count": null,
   "id": "57954dc7",
   "metadata": {},
   "outputs": [],
   "source": []
  }
 ],
 "metadata": {
  "kernelspec": {
   "display_name": "conda_python3",
   "language": "python",
   "name": "conda_python3"
  },
  "language_info": {
   "codemirror_mode": {
    "name": "ipython",
    "version": 3
   },
   "file_extension": ".py",
   "mimetype": "text/x-python",
   "name": "python",
   "nbconvert_exporter": "python",
   "pygments_lexer": "ipython3",
   "version": "3.6.13"
  }
 },
 "nbformat": 4,
 "nbformat_minor": 5
}
