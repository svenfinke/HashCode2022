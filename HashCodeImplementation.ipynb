{
 "cells": [
  {
   "cell_type": "markdown",
   "id": "8c2b3fb1",
   "metadata": {},
   "source": [
    "# Hashcode Implementation\n",
    "\n",
    "*add information*"
   ]
  },
  {
   "cell_type": "code",
   "execution_count": 5,
   "id": "0599ad69",
   "metadata": {},
   "outputs": [],
   "source": [
    "# Render Files\n",
    "def renderFile(filename):\n",
    "    result = []\n",
    "    with open(filename) as f:\n",
    "        lines = f.readlines()\n",
    "        content = f.read()\n",
    "    count = 0\n",
    "    for line in lines:\n",
    "        count += 1\n",
    "        words = line.split()\n",
    "        result.append({\n",
    "            \"pizzaSlices\": words[0],\n",
    "            \"cities\": words[1],\n",
    "            \"drivers\": words[2],\n",
    "            \"gems\": words[3]\n",
    "        })\n",
    "    return result"
   ]
  },
  {
   "cell_type": "code",
   "execution_count": 7,
   "id": "d5313f14",
   "metadata": {},
   "outputs": [
    {
     "name": "stdout",
     "output_type": "stream",
     "text": [
      "{'pizzaSlices': '1', 'cities': '2', 'drivers': '3', 'gems': '4'}\n"
     ]
    }
   ],
   "source": [
    "testFileA = renderFile(\"test_hash.txt\")\n",
    "print(testFileA[0])"
   ]
  },
  {
   "cell_type": "code",
   "execution_count": null,
   "id": "99b38ae8",
   "metadata": {},
   "outputs": [],
   "source": []
  }
 ],
 "metadata": {
  "kernelspec": {
   "display_name": "conda_python3",
   "language": "python",
   "name": "conda_python3"
  },
  "language_info": {
   "codemirror_mode": {
    "name": "ipython",
    "version": 3
   },
   "file_extension": ".py",
   "mimetype": "text/x-python",
   "name": "python",
   "nbconvert_exporter": "python",
   "pygments_lexer": "ipython3",
   "version": "3.6.13"
  }
 },
 "nbformat": 4,
 "nbformat_minor": 5
}
