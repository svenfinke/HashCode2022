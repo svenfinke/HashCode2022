{
 "cells": [
  {
   "cell_type": "markdown",
   "id": "d9e54a65",
   "metadata": {},
   "source": [
    "# Hashcode Tests\n",
    "\n",
    "Ein paar kleine Vorbereitungen auf die heutige Hashcode. "
   ]
  },
  {
   "cell_type": "code",
   "execution_count": null,
   "id": "1fcbc555",
   "metadata": {},
   "outputs": [],
   "source": [
    "# Read File\n",
    "with open('test_hash.txt') as f:\n",
    "    lines = f.readlines()\n",
    "    content = f.read()"
   ]
  },
  {
   "cell_type": "code",
   "execution_count": 4,
   "id": "b5ba8a9b",
   "metadata": {
    "scrolled": true
   },
   "outputs": [
    {
     "name": "stdout",
     "output_type": "stream",
     "text": [
      "line 1: 1 2 3 4\n",
      "\n",
      "line 2: 12 3 45 88\n",
      "\n",
      "line 3: 3400 23 76123 12\n"
     ]
    }
   ],
   "source": [
    "count = 0\n",
    "for line in lines:\n",
    "    count += 1\n",
    "    print(f'line {count}: {line}')"
   ]
  },
  {
   "cell_type": "code",
   "execution_count": 7,
   "id": "dfa6cebc",
   "metadata": {},
   "outputs": [
    {
     "name": "stdout",
     "output_type": "stream",
     "text": [
      "line 1: 1 2 3 4\n",
      "; ['1', '2', '3', '4']\n",
      "line 2: 12 3 45 88\n",
      "; ['12', '3', '45', '88']\n",
      "line 3: 3400 23 76123 12; ['3400', '23', '76123', '12']\n"
     ]
    }
   ],
   "source": [
    "count = 0\n",
    "for line in lines:\n",
    "    count += 1\n",
    "    words = line.split()\n",
    "    print(f'line {count}: {line}; {words}')"
   ]
  },
  {
   "cell_type": "code",
   "execution_count": null,
   "id": "43807a57",
   "metadata": {},
   "outputs": [],
   "source": []
  }
 ],
 "metadata": {
  "kernelspec": {
   "display_name": "conda_python3",
   "language": "python",
   "name": "conda_python3"
  },
  "language_info": {
   "codemirror_mode": {
    "name": "ipython",
    "version": 3
   },
   "file_extension": ".py",
   "mimetype": "text/x-python",
   "name": "python",
   "nbconvert_exporter": "python",
   "pygments_lexer": "ipython3",
   "version": "3.6.13"
  }
 },
 "nbformat": 4,
 "nbformat_minor": 5
}
